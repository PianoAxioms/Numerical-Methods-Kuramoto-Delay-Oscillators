{
 "cells": [
  {
   "cell_type": "markdown",
   "metadata": {},
   "source": [
    "# Import libraries"
   ]
  },
  {
   "cell_type": "code",
   "execution_count": 1,
   "metadata": {},
   "outputs": [],
   "source": [
    "from __future__ import division, print_function\n",
    "\n",
    "import os\n",
    "import numpy as np\n",
    "import matplotlib.pyplot as plt\n",
    "import math\n",
    "from math import pi\n",
    "\n",
    "from IPython.display import clear_output\n",
    "\n",
    "from library import * # All library modules\n",
    "import data_manager as dm\n",
    "%matplotlib inline"
   ]
  },
  {
   "cell_type": "markdown",
   "metadata": {},
   "source": [
    "# Directories"
   ]
  },
  {
   "cell_type": "code",
   "execution_count": 2,
   "metadata": {},
   "outputs": [],
   "source": [
    "dir_main = os.getcwd() # Main directory\n",
    "dir_opts = os.path.join(dir_main, 'options') # Contains all plot options\n",
    "\n",
    "# Data set directories for import/export\n",
    "dataset_name = 'fig3_dataset'\n",
    "data_name = '1'\n",
    "\n",
    "if data_name != None:\n",
    "    dir_data = os.path.join(dir_main, 'data', dataset_name, data_name)\n",
    "\n",
    "else:\n",
    "    dir_data = os.path.join(dir_main, 'data', dataset_name)"
   ]
  },
  {
   "cell_type": "markdown",
   "metadata": {},
   "source": [
    "# Generate single solution plots\n",
    "\n",
    "The following plots use **single solution** data sets generated from `comp_script`. Set `dataset_name` to be the name of your single solution data folder, or `dir_data` to be the name of your single solution data directory."
   ]
  },
  {
   "cell_type": "markdown",
   "metadata": {},
   "source": [
    "## Import data"
   ]
  },
  {
   "cell_type": "code",
   "execution_count": 3,
   "metadata": {},
   "outputs": [
    {
     "ename": "AttributeError",
     "evalue": "module 'library.plot_pack' has no attribute 'plot_options'",
     "output_type": "error",
     "traceback": [
      "\u001b[1;31m---------------------------------------------------------------------------\u001b[0m",
      "\u001b[1;31mAttributeError\u001b[0m                            Traceback (most recent call last)",
      "\u001b[1;32m<ipython-input-3-a7467f3a6bbd>\u001b[0m in \u001b[0;36m<module>\u001b[1;34m()\u001b[0m\n\u001b[0;32m      7\u001b[0m \u001b[1;33m\u001b[0m\u001b[0m\n\u001b[0;32m      8\u001b[0m \u001b[1;31m# Plot options\u001b[0m\u001b[1;33m\u001b[0m\u001b[1;33m\u001b[0m\u001b[0m\n\u001b[1;32m----> 9\u001b[1;33m \u001b[0mpo\u001b[0m \u001b[1;33m=\u001b[0m \u001b[0mplot_pack\u001b[0m\u001b[1;33m.\u001b[0m\u001b[0mplot_options\u001b[0m\u001b[1;33m\u001b[0m\u001b[0m\n\u001b[0m",
      "\u001b[1;31mAttributeError\u001b[0m: module 'library.plot_pack' has no attribute 'plot_options'"
     ]
    }
   ],
   "source": [
    "km = dm.Data()\n",
    "km.dir_save = dir_data\n",
    "km.import_data()\n",
    "\n",
    "# Figure size\n",
    "full_size = (8.27, 11.69)\n",
    "\n",
    "# Plot options\n",
    "po = plot_pack.plot_options"
   ]
  },
  {
   "cell_type": "markdown",
   "metadata": {},
   "source": [
    "## Centralized phases\n",
    "\n",
    "Plots a random sample of the centralized phases from the numerical solution"
   ]
  },
  {
   "cell_type": "code",
   "execution_count": null,
   "metadata": {},
   "outputs": [],
   "source": [
    "# Generate plot\n",
    "prop = (1.0, 0.5)\n",
    "fig_size = (prop[0]*full_size[0], prop[1]*full_size[1])\n",
    "fig, ax = plt.subplots(figsize=fig_size)\n",
    "\n",
    "# Settings\n",
    "km.num_inds = 30 # Sample size of plotted phases\n",
    "\n",
    "# Process arrays\n",
    "km.compute_mean_arrays()\n",
    "km.compute_center_phase_arrays()\n",
    "\n",
    "# Set up arrays\n",
    "x_array = km.sol.t\n",
    "y_array = km.centered_phases\n",
    "\n",
    "# Set up plot\n",
    "plot_pack.centered_phases_template(ax)\n",
    "ax.set_xlim(left=0, right=x_array[-1])\n",
    "\n",
    "# Colourmap\n",
    "colormap = plt.cm.get_cmap('coolwarm')\n",
    "colorlist = [colormap(i) for i in np.linspace(0, 0.99, y_array.shape[1])]\n",
    "ax.set_prop_cycle(color=colorlist)\n",
    "        \n",
    "# Plot arrays\n",
    "ax.plot(x_array, y_array, **po('line', 'small'))\n",
    "\n",
    "# Injury?\n",
    "if km.is_inj:\n",
    "    ax.axvline(x=km.inj_time, **po('line', 'dash', color='black'))"
   ]
  },
  {
   "cell_type": "markdown",
   "metadata": {},
   "source": [
    "## Density of phase differences\n",
    "\n",
    "Plots a histogram of phase differences, scaled so that it corresponds to the Gaussian density function centered at mean 0 and variance equaling the sample variance of the phase differences."
   ]
  },
  {
   "cell_type": "code",
   "execution_count": null,
   "metadata": {},
   "outputs": [],
   "source": [
    "# Generate plot\n",
    "prop = (1.0, 0.5)\n",
    "fig_size = (prop[0]*full_size[0], prop[1]*full_size[1])\n",
    "fig, ax = plt.subplots(figsize=fig_size)\n",
    "\n",
    "# Array settings\n",
    "km.diff_steps = 50 # Number of steps in phase difference plot\n",
    "km.gauss_steps = 200 # Number of steps in Gaussian function plot\n",
    "\n",
    "# Plot settings\n",
    "bar_width = 0.1\n",
    "\n",
    "col_0 = 'blue'\n",
    "col_m = 'orange'\n",
    "col_f = 'red'\n",
    "col_line = 'green'\n",
    "\n",
    "alpha_bar = 0.8\n",
    "alpha_line = 0.8\n",
    "\n",
    "# Process arrays\n",
    "km.compute_phase_diff_arrays()\n",
    "\n",
    "x_array = km.phase_diff_x\n",
    "y0_array = km.phase_diff_0\n",
    "ym_array = km.phase_diff_m\n",
    "yf_array = km.phase_diff_f\n",
    "\n",
    "gauss_x_array = km.phase_gauss_x\n",
    "gauss_y_array = km.phase_gauss_y\n",
    "\n",
    "# Set up plot\n",
    "plot_pack.phase_diffs_template(ax)\n",
    "\n",
    "# Plot arrays\n",
    "ax.bar(x_array, y0_array, width=bar_width, color=col_0, alpha=alpha_bar)\n",
    "ax.bar(x_array, ym_array, width=bar_width, color=col_m, alpha=alpha_bar)\n",
    "ax.bar(x_array, yf_array, width=bar_width, color=col_f, alpha=alpha_bar)\n",
    "\n",
    "ax.plot(gauss_x_array, gauss_y_array, alpha=alpha_line, **po('line', 'default', color='black'))"
   ]
  },
  {
   "cell_type": "markdown",
   "metadata": {},
   "source": [
    "## Delays\n",
    "\n",
    "Plots a random sample of the delay solutions over time."
   ]
  },
  {
   "cell_type": "code",
   "execution_count": null,
   "metadata": {},
   "outputs": [],
   "source": [
    "# Generate plot\n",
    "prop = (1.0, 0.5)\n",
    "fig_size = (prop[0]*full_size[0], prop[1]*full_size[1])\n",
    "fig, ax = plt.subplots(figsize=fig_size)\n",
    "\n",
    "# Set up arrays\n",
    "x_array = km.sol.t\n",
    "y_array = km.delay_data.samY\n",
    "\n",
    "# Set up plot\n",
    "plot_pack.basic_template(ax, tick='medium')\n",
    "ax.set_ylim(bottom=0, top=km.Tau_upper)\n",
    "ax.set_xlim(left=0, right=x_array[-1])\n",
    "\n",
    "# Colourmap\n",
    "colormap = plt.cm.get_cmap('PiYG')\n",
    "colorlist = [colormap(i) for i in np.linspace(0, 0.99, y_array.shape[1])]\n",
    "ax.set_prop_cycle(color=colorlist)\n",
    "        \n",
    "# Plot arrays\n",
    "ax.plot(x_array, y_array, **po('line', 'small'))\n",
    "\n",
    "# Injury?\n",
    "if km.is_inj:\n",
    "    ax.axvline(x=km.inj_time, **po('line', 'dash', color='black'))"
   ]
  },
  {
   "cell_type": "markdown",
   "metadata": {},
   "source": [
    "## Log density of delays\n",
    "\n",
    "Plots a histogram of logged delays at the initial, injury, and final time. "
   ]
  },
  {
   "cell_type": "code",
   "execution_count": null,
   "metadata": {},
   "outputs": [],
   "source": [
    "# Generate plot\n",
    "prop = (1.0, 0.5)\n",
    "fig_size = (prop[0]*full_size[0], prop[1]*full_size[1])\n",
    "fig, ax = plt.subplots(figsize=fig_size)\n",
    "\n",
    "# Plot options\n",
    "alpha = 0.8\n",
    "color_0 = 'blue'\n",
    "color_m = 'orange'\n",
    "color_f = 'red'\n",
    "\n",
    "# Process arrays\n",
    "km.compute_delay_dists()\n",
    "\n",
    "# Set up arrays\n",
    "x_array = km.Tau_space\n",
    "Tau0_array = km.Tau0_count\n",
    "Taum_array = km.Taum_count\n",
    "Tauf_array = km.Tauf_count\n",
    "\n",
    "# Adjust Tau0:\n",
    "Tau0_array[0] = Tau0_array[-1]\n",
    "        \n",
    "# Plot function\n",
    "plt_fun = lambda Y: np.log(1 + Y)\n",
    "\n",
    "# Plot arrays\n",
    "plt0_array = plt_fun(Tau0_array)\n",
    "pltm_array = plt_fun(Taum_array)\n",
    "pltf_array = plt_fun(Tauf_array)\n",
    "\n",
    "# Maximum\n",
    "all_max = max(np.max(plt0_array), np.max(pltm_array), np.max(pltf_array))\n",
    "\n",
    "# Plot settings\n",
    "plot_pack.basic_template(ax, tick='medium')\n",
    "ax.set_xlim(left=x_array[-1], right=x_array[-3])\n",
    "ax.set_ylim(bottom=0, top=all_max + 1)\n",
    "\n",
    "# Plot arrays\n",
    "ax.fill(x_array, plt0_array, color=color_0, alpha=alpha)\n",
    "ax.fill(x_array, pltm_array, color=color_m, alpha=alpha)\n",
    "ax.fill(x_array, pltf_array, color=color_f, alpha=alpha)    "
   ]
  }
 ],
 "metadata": {
  "kernelspec": {
   "display_name": "Python 3",
   "language": "python",
   "name": "python3"
  },
  "language_info": {
   "codemirror_mode": {
    "name": "ipython",
    "version": 3
   },
   "file_extension": ".py",
   "mimetype": "text/x-python",
   "name": "python",
   "nbconvert_exporter": "python",
   "pygments_lexer": "ipython3",
   "version": "3.6.5"
  }
 },
 "nbformat": 4,
 "nbformat_minor": 2
}
