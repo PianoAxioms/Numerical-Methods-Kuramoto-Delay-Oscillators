{
 "cells": [
  {
   "cell_type": "markdown",
   "metadata": {},
   "source": [
    "# Import libraries"
   ]
  },
  {
   "cell_type": "code",
   "execution_count": 1,
   "metadata": {},
   "outputs": [],
   "source": [
    "from __future__ import division, print_function\n",
    "\n",
    "import os\n",
    "import numpy as np\n",
    "import matplotlib.pyplot as plt\n",
    "import math\n",
    "from math import pi\n",
    "\n",
    "from IPython.display import clear_output\n",
    "\n",
    "from library import * # All library modules\n",
    "import data_manager as dm\n",
    "%matplotlib inline"
   ]
  },
  {
   "cell_type": "markdown",
   "metadata": {},
   "source": [
    "# Directories"
   ]
  },
  {
   "cell_type": "code",
   "execution_count": 2,
   "metadata": {},
   "outputs": [],
   "source": [
    "dir_main = os.getcwd() # Main directory\n",
    "dir_opts = os.path.join(dir_main, 'options') # Contains all plot options\n",
    "\n",
    "# Data set directories for import/export\n",
    "dataset_name = 'Fig6_nogain_dataset'\n",
    "dataset_name2 = 'Fig6_gain_dataset'\n",
    "\n",
    "dir_data = os.path.join(dir_main, 'data', dataset_name)\n",
    "dir_data2 = os.path.join(dir_main, 'data', dataset_name2)"
   ]
  },
  {
   "cell_type": "markdown",
   "metadata": {},
   "source": [
    "# Generate multiple-iteration plots\n",
    "\n",
    "The following plots use **vary gain** or **vary injury index** data sets generated from `comp_script`. Set `dataset_name` to be the name of your data folder containing all solution folders, or `dir_data` to be the name of your data directory."
   ]
  },
  {
   "cell_type": "markdown",
   "metadata": {},
   "source": [
    "## Import data"
   ]
  },
  {
   "cell_type": "code",
   "execution_count": 3,
   "metadata": {},
   "outputs": [
    {
     "name": "stdout",
     "output_type": "stream",
     "text": [
      "Data processing complete\n"
     ]
    }
   ],
   "source": [
    "# Processor\n",
    "pro = dm.Processor()\n",
    "pro2 = dm.Processor()\n",
    "\n",
    "# Directories\n",
    "pro.dir_save = dir_data\n",
    "pro2.dir_save = dir_data2\n",
    "\n",
    "# Save data set from first directory\n",
    "print('Processing data...')\n",
    "pro.save_dataset()\n",
    "clear_output()\n",
    "print('Data processing complete')\n",
    "\n",
    "load_pro2 = True\n",
    "\n",
    "# Figure size\n",
    "full_size = (8.27, 11.69)\n",
    "\n",
    "# Plot options\n",
    "po = plot_pack.plot_options\n",
    "\n",
    "line_opts = po('line', 'default')\n",
    "line_opts2 = po('line', 'small')\n",
    "line_opts3 = po('line', 'dotted')\n",
    "mark_opts = po('marker', 'default_bullet')"
   ]
  },
  {
   "cell_type": "markdown",
   "metadata": {},
   "source": [
    "## Data Type\n",
    "\n",
    "Run one of the following depending on the type of data plotted."
   ]
  },
  {
   "cell_type": "markdown",
   "metadata": {},
   "source": [
    "### 1. Plot solutions over varying gains"
   ]
  },
  {
   "cell_type": "code",
   "execution_count": null,
   "metadata": {},
   "outputs": [],
   "source": [
    "# Select folders to show\n",
    "folders = [0, 3, 5]\n",
    "colours = ['black', 'orange', 'red']"
   ]
  },
  {
   "cell_type": "markdown",
   "metadata": {},
   "source": [
    "### 2. Plot plasticity vs. non-plasticity over varying injury"
   ]
  },
  {
   "cell_type": "code",
   "execution_count": null,
   "metadata": {},
   "outputs": [],
   "source": [
    "# Select folders to show\n",
    "folders = [8]\n",
    "colours = ['black']\n",
    "colours2 = ['red']\n",
    "\n",
    "# Load 2nd data set\n",
    "print('Processing data...')\n",
    "pro2.save_dataset()\n",
    "clear_output()\n",
    "print('Data processing complete')\n",
    "\n",
    "load_pro2 = True"
   ]
  },
  {
   "cell_type": "markdown",
   "metadata": {},
   "source": [
    "## Net delays\n",
    "\n",
    "Plots a random sample of the centralized phases from the numerical solution"
   ]
  },
  {
   "cell_type": "code",
   "execution_count": null,
   "metadata": {},
   "outputs": [],
   "source": [
    "# Generate plot\n",
    "prop = (1.0, 0.5)\n",
    "fig_size = (prop[0]*full_size[0], prop[1]*full_size[1])\n",
    "fig, ax = plt.subplots(figsize=fig_size)\n",
    "\n",
    "# Set plot options\n",
    "plot_pack.basic_template(ax, tick='medium')\n",
    "\n",
    "# Plot arrays\n",
    "for i in range(len(folders)):\n",
    "    key = folders[i]\n",
    "    colour = colours[i]\n",
    "    \n",
    "    x_array = pro.data[key].t\n",
    "    y_array = pro.data[key].net_tau\n",
    "    \n",
    "    ax.plot(x_array, y_array, color=colour, **line_opts)\n",
    "\n",
    "if load_pro2:\n",
    "    for j in range(len(folders)):\n",
    "        key2 = folders[j]\n",
    "        colour2 = colours[j]\n",
    "        \n",
    "        x_array2 = pro2.data[key2].t\n",
    "        y_array2 = pro2.data[key2].net_tau\n",
    "    \n",
    "        ax.plot(x_array2, y_array2, color=colour2, **line_opts)\n",
    "    \n",
    "# Plot horizontal line\n",
    "ax.axhline(y=0, color='black', **line_opts3)"
   ]
  },
  {
   "cell_type": "markdown",
   "metadata": {},
   "source": [
    "## Mean frequency over time\n",
    "\n",
    "Plots the mean frequency of selected solutions over time."
   ]
  },
  {
   "cell_type": "code",
   "execution_count": null,
   "metadata": {},
   "outputs": [],
   "source": [
    "# Generate plot\n",
    "prop = (1.0, 0.5)\n",
    "fig_size = (prop[0]*full_size[0], prop[1]*full_size[1])\n",
    "fig, ax = plt.subplots(figsize=fig_size)\n",
    "\n",
    "# Set plot options\n",
    "plot_pack.basic_template(ax, tick='medium')\n",
    "\n",
    "# Plot arrays\n",
    "for i in range(len(folders)):\n",
    "    key = folders[i]\n",
    "    colour = colours[i]\n",
    "    \n",
    "    x_array = pro.data[key].t\n",
    "    y_array = pro.data[key].meanYP\n",
    "    \n",
    "    ax.plot(x_array, y_array, color=colour, **line_opts)\n",
    "    \n",
    "if load_pro2:\n",
    "    for j in range(len(folders)):\n",
    "        key2 = folders[j]\n",
    "        colour2 = colours[j]\n",
    "\n",
    "        x_array2 = pro2.data[key2].t\n",
    "        y_array2 = pro2.data[key2].meanYP\n",
    "\n",
    "        ax.plot(x_array2, y_array2, color=colour2, **line_opts)\n",
    "        \n",
    "        # Plot vertical line\n",
    "        ax.axvline(x=pro.inj_time, color='black', **line_opts3)\n",
    "\n",
    "# Plot horizontal line\n",
    "ax.axhline(y=pro.omega0, color='green', **line_opts2) "
   ]
  },
  {
   "cell_type": "markdown",
   "metadata": {},
   "source": [
    "## Asymptotic frequency\n",
    "\n",
    "Plots asymptotic frequency vs. gain or the injury index. If against injury index, compares\n",
    "the trend with plasticity and without plasticity."
   ]
  },
  {
   "cell_type": "code",
   "execution_count": null,
   "metadata": {},
   "outputs": [],
   "source": [
    "# Generate plot\n",
    "prop = (1.0, 0.5)\n",
    "fig_size = (prop[0]*full_size[0], prop[1]*full_size[1])\n",
    "fig, ax = plt.subplots(figsize=fig_size)\n",
    "\n",
    "# Set plot options\n",
    "plot_pack.basic_template(ax, tick='medium')\n",
    "\n",
    "# Compile asymptotic arrays\n",
    "asy = 0.1\n",
    "pro.compile_asy_arrays(asy=asy)\n",
    "\n",
    "# Plot arrays\n",
    "if not load_pro2:\n",
    "    x_array = pro.gain_array\n",
    "else:\n",
    "    x_array = pro.inj_array\n",
    "    \n",
    "y_array = pro.asy_Omega\n",
    "y_err = pro.asy_Omega_range\n",
    "y_err[0] = y_array - y_err[0]\n",
    "y_err[1] = y_err[1] - y_array\n",
    "\n",
    "ax.errorbar(x_array, y_array, yerr=y_err, color=colours[0], **mark_opts)\n",
    "ax.plot(x_array, y_array, color=colours[0], **line_opts)\n",
    "\n",
    "if load_pro2:\n",
    "    pro2.compile_asy_arrays(asy=asy)\n",
    "    \n",
    "    x_array2 = pro2.inj_array\n",
    "    y_array2 = pro2.asy_Omega\n",
    "    y_err2 = pro2.asy_Omega_range\n",
    "    y_err2[0] = y_array2 - y_err2[0]\n",
    "    y_err2[1] = y_err2[1] - y_array2\n",
    "\n",
    "    ax.errorbar(x_array2, y_array2, yerr=y_err2, color=colours2[0], **mark_opts)\n",
    "    ax.plot(x_array2, y_array2, color=colours2[0], **line_opts3)\n",
    "    \n",
    "    # Plot vertical line\n",
    "    # ax.axvline(x=pro.inj_time, color='black', **line_opts3)\n",
    "    \n",
    "# Plot horizontal line\n",
    "ax.axhline(y=pro.omega0, color='green', **line_opts2)"
   ]
  },
  {
   "cell_type": "markdown",
   "metadata": {},
   "source": [
    "## Delta over time\n",
    "\n",
    "Plots the delta (phase difference) of selected solutions over time."
   ]
  },
  {
   "cell_type": "code",
   "execution_count": null,
   "metadata": {},
   "outputs": [],
   "source": [
    "# Generate plot\n",
    "prop = (1.0, 0.5)\n",
    "fig_size = (prop[0]*full_size[0], prop[1]*full_size[1])\n",
    "fig, ax = plt.subplots(figsize=fig_size)\n",
    "\n",
    "# Set plot options\n",
    "plot_pack.basic_template(ax, tick='medium')\n",
    "\n",
    "# Plot arrays\n",
    "for i in range(len(folders)):\n",
    "    key = folders[i]\n",
    "    colour = colours[i]\n",
    "    \n",
    "    x_array = pro.data[key].t\n",
    "    y_array = pro.data[key].delta\n",
    "    \n",
    "    ax.plot(x_array, y_array, color=colour, **line_opts)\n",
    "    \n",
    "if load_pro2:\n",
    "    for j in range(len(folders)):\n",
    "        key2 = folders[j]\n",
    "        colour2 = colours[j]\n",
    "\n",
    "        x_array2 = pro2.data[key2].t\n",
    "        y_array2 = pro2.data[key2].delta\n",
    "\n",
    "        ax.plot(x_array2, y_array2, color=colour2, **line_opts)\n",
    "        \n",
    "        # Plot vertical line\n",
    "        ax.axvline(x=pro.inj_time, color='black', **line_opts3)\n",
    "\n",
    "# Plot horizontal line\n",
    "ax.axhline(y=0, color='black', **line_opts2) "
   ]
  },
  {
   "cell_type": "markdown",
   "metadata": {},
   "source": [
    "## Asymptotic delta"
   ]
  },
  {
   "cell_type": "code",
   "execution_count": null,
   "metadata": {},
   "outputs": [],
   "source": [
    "# Generate plot\n",
    "prop = (1.0, 0.5)\n",
    "fig_size = (prop[0]*full_size[0], prop[1]*full_size[1])\n",
    "fig, ax = plt.subplots(figsize=fig_size)\n",
    "\n",
    "# Set plot options\n",
    "plot_pack.basic_template(ax, tick='medium')\n",
    "\n",
    "# Compile asymptotic arrays\n",
    "asy = 0.1\n",
    "pro.compile_asy_arrays(asy=asy)\n",
    "\n",
    "# Plot arrays\n",
    "if not load_pro2:\n",
    "    x_array = pro.gain_array\n",
    "else:\n",
    "    x_array = pro.inj_array\n",
    "    \n",
    "y_array = pro.asy_delta\n",
    "y_err = pro.asy_delta_range\n",
    "y_err[0] = y_array - y_err[0]\n",
    "y_err[1] = y_err[1] - y_array\n",
    "\n",
    "ax.errorbar(x_array, y_array, yerr=y_err, color=colours[0], **mark_opts)\n",
    "ax.plot(x_array, y_array, color=colours[0], **line_opts)\n",
    "\n",
    "if load_pro2:\n",
    "    pro2.compile_asy_arrays(asy=asy)\n",
    "    \n",
    "    x_array2 = pro2.inj_array\n",
    "    y_array2 = pro2.asy_delta\n",
    "    y_err2 = pro2.asy_delta_range\n",
    "    y_err2[0] = y_array2 - y_err2[0]\n",
    "    y_err2[1] = y_err2[1] - y_array2\n",
    "\n",
    "    ax.errorbar(x_array2, y_array2, yerr=y_err2, color=colours2[0], **mark_opts)\n",
    "    ax.plot(x_array2, y_array2, color=colours2[0], **line_opts3)\n",
    "    \n",
    "# Plot horizontal line\n",
    "ax.axhline(y=0, color='black', **line_opts2)"
   ]
  },
  {
   "cell_type": "code",
   "execution_count": null,
   "metadata": {},
   "outputs": [],
   "source": []
  }
 ],
 "metadata": {
  "kernelspec": {
   "display_name": "Python 3",
   "language": "python",
   "name": "python3"
  },
  "language_info": {
   "codemirror_mode": {
    "name": "ipython",
    "version": 3
   },
   "file_extension": ".py",
   "mimetype": "text/x-python",
   "name": "python",
   "nbconvert_exporter": "python",
   "pygments_lexer": "ipython3",
   "version": "3.6.5"
  }
 },
 "nbformat": 4,
 "nbformat_minor": 2
}
