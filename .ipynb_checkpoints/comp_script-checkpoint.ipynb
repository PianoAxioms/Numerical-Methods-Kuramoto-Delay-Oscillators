{
 "cells": [
  {
   "cell_type": "markdown",
   "metadata": {},
   "source": [
    "# Import libraries"
   ]
  },
  {
   "cell_type": "code",
   "execution_count": 1,
   "metadata": {},
   "outputs": [
    {
     "ename": "ModuleNotFoundError",
     "evalue": "No module named 'data_computer'",
     "output_type": "error",
     "traceback": [
      "\u001b[1;31m---------------------------------------------------------------------------\u001b[0m",
      "\u001b[1;31mModuleNotFoundError\u001b[0m                       Traceback (most recent call last)",
      "\u001b[1;32m<ipython-input-1-383075f8a02c>\u001b[0m in \u001b[0;36m<module>\u001b[1;34m()\u001b[0m\n\u001b[0;32m      9\u001b[0m \u001b[1;33m\u001b[0m\u001b[0m\n\u001b[0;32m     10\u001b[0m \u001b[1;32mfrom\u001b[0m \u001b[0mlibrary\u001b[0m \u001b[1;32mimport\u001b[0m \u001b[1;33m*\u001b[0m\u001b[1;33m\u001b[0m\u001b[0m\n\u001b[1;32m---> 11\u001b[1;33m \u001b[1;32mimport\u001b[0m \u001b[0mdata_computer\u001b[0m \u001b[1;32mas\u001b[0m \u001b[0mdc\u001b[0m\u001b[1;33m\u001b[0m\u001b[0m\n\u001b[0m",
      "\u001b[1;31mModuleNotFoundError\u001b[0m: No module named 'data_computer'"
     ]
    }
   ],
   "source": [
    "from __future__ import division, print_function\n",
    "\n",
    "import os\n",
    "import numpy as np\n",
    "import math\n",
    "from math import pi\n",
    "\n",
    "from IPython.display import clear_output\n",
    "\n",
    "from library import *\n",
    "import data_computer as dc"
   ]
  },
  {
   "cell_type": "markdown",
   "metadata": {},
   "source": [
    "# Directories"
   ]
  },
  {
   "cell_type": "code",
   "execution_count": null,
   "metadata": {},
   "outputs": [],
   "source": [
    "# Saved folder name for data set\n",
    "dataset_name = 'np_trial'\n",
    "\n",
    "# Directories\n",
    "dir_main = os.getcwd()\n",
    "dir_data = os.path.join(dir_main, 'data')\n",
    "dir_save = os.path.join(dir_data, dataset_name)\n",
    "\n",
    "# Create save folder if it does not exist:\n",
    "if not os.path.exists(dir_save):\n",
    "    os.makedirs(dir_save)"
   ]
  },
  {
   "cell_type": "markdown",
   "metadata": {},
   "source": [
    "# Set-up"
   ]
  },
  {
   "cell_type": "markdown",
   "metadata": {},
   "source": [
    "## Initiate class"
   ]
  },
  {
   "cell_type": "code",
   "execution_count": null,
   "metadata": {},
   "outputs": [],
   "source": [
    "kc = dc.KuraComputer()\n",
    "kc.dir_save = dir_save"
   ]
  },
  {
   "cell_type": "markdown",
   "metadata": {},
   "source": [
    "## Parameters"
   ]
  },
  {
   "cell_type": "code",
   "execution_count": null,
   "metadata": {},
   "outputs": [],
   "source": [
    "kc.N = 30 # Number of oscillators\n",
    "kc.g = 1.5 # Global coupling constant\n",
    "kc.tspan = [0,60] # Time interval of simulation\n",
    "kc.step_size = 0.01 # Step-size of simulation\n",
    "\n",
    "kc.inj = 0.0 # Insult index at initial time\n",
    "kc.omega0 = 1.0 # Natural frequency of all oscillators\n",
    "kc.Tau_dist = 'uniform' # Distribution type\n",
    "kc.Lambda = [0, 0.02] # Parameters for distribution (e.g. For uniform, it is the list [lower, upper])\n",
    "\n",
    "# Delays\n",
    "kc.alpha_Tau = 0.1 # Homeostatic rate constant of delays\n",
    "kc.gain = 30.0 # Plasticity gain of delays\n",
    "\n",
    "# Mid injury\n",
    "kc.is_inj = False # If True, injury is introduced\n",
    "kc.inj_time = 15 # Time at which injury occurs\n",
    "kc.inj_mid = 0.9 # The injury index at inj_time\n",
    "\n",
    "# Settings for storing delay arrays\n",
    "kc.Tau_steps = 100 # The partition number to save histogram of delays over time\n",
    "kc.Tau_upper = 10.0 # The upper bound for which delays are counted. The delay interval is [0, Tau_upper].\n",
    "\n",
    "get_delay = True # Option to indicate whether delay arrays will be saved or not\n",
    "\n",
    "# Update all parameters\n",
    "kc.update()"
   ]
  },
  {
   "cell_type": "markdown",
   "metadata": {},
   "source": [
    "# Generate datasets\n",
    "\n",
    "### Run the following cells to generate data sets of the corresponding type:\n",
    "- Single solution: Generates a numerical solution using the parameter values set above.\n",
    "- Compare plasticity: Generates two numerical solutions; one with no gain, and the other with some large gain. All other parameters are constant.\n",
    "- Vary gain: Generates a numerical solution for each increasing plasticity gain value, while keeping all other parameters constant.\n",
    "- Vary injury index: Generates a numerical solution for each increasing inj_mid value, while keeping all other parameters constant."
   ]
  },
  {
   "cell_type": "markdown",
   "metadata": {},
   "source": [
    "## Single solution"
   ]
  },
  {
   "cell_type": "code",
   "execution_count": null,
   "metadata": {},
   "outputs": [],
   "source": [
    "# kc.compute_Omega(0)\n",
    "inds = kc.generate_sol(get_delay=get_delay)\n",
    "kc.compute_var()\n",
    "\n",
    "# Directory\n",
    "kc.dir_save = dir_save\n",
    "if not os.path.exists(kc.dir_save):\n",
    "    os.makedirs(kc.dir_save)\n",
    "kc.export_data()\n",
    "\n",
    "# Clear loading bar\n",
    "clear_output()\n",
    "\n",
    "# Successful message:\n",
    "print('Data successfully saved!')"
   ]
  },
  {
   "cell_type": "markdown",
   "metadata": {},
   "source": [
    "## Compare plasticity"
   ]
  },
  {
   "cell_type": "code",
   "execution_count": null,
   "metadata": {},
   "outputs": [],
   "source": [
    "# Gain value\n",
    "gain = 30.0\n",
    "\n",
    "gain_array = np.array([0, gain])\n",
    "gain_msg = ['no_gain', 'gain']\n",
    "\n",
    "for i in range(2):\n",
    "    kc.gain = gain_array[i]\n",
    "    kc.update(sample_A=False, sample_Tau=False)\n",
    "    kc.compute_Omega(0)\n",
    "\n",
    "    print('\\n Trial: ' + gain_msg[i]) # Keep track of trials\n",
    "    inds = kc.generate_sol(get_delay=get_delay)\n",
    "    kc.compute_var()\n",
    "\n",
    "    # Directory\n",
    "    kc.dir_save = os.path.join(dir_save, gain_msg[i])\n",
    "    if not os.path.exists(kc.dir_save):\n",
    "        os.makedirs(kc.dir_save)\n",
    "    kc.export_data()\n",
    "    \n",
    "    # Clear loading bar\n",
    "    clear_output()\n",
    "\n",
    "# Successful message:\n",
    "print('Data successfully saved!')"
   ]
  },
  {
   "cell_type": "markdown",
   "metadata": {},
   "source": [
    "## Vary gain"
   ]
  },
  {
   "cell_type": "code",
   "execution_count": null,
   "metadata": {},
   "outputs": [],
   "source": [
    "# Range of gain:\n",
    "gain_lower = 0.0\n",
    "gain_upper = 40.0\n",
    "num_gain = 10\n",
    "\n",
    "gain_array = np.linspace(gain_lower, gain_upper, num=num_gain, endpoint=False)\n",
    "\n",
    "for i in range(gain_array.size):\n",
    "    kc.gain = gain_array[i]\n",
    "    kc.update(sample_A=False, sample_Tau=False)\n",
    "    kc.compute_Omega(0)\n",
    "\n",
    "    print('\\n Trial: ' + str(i+1) + '/' + str(gain_array.size)) # Keep track of trials\n",
    "    inds = kc.generate_sol(get_delay=get_delay)\n",
    "    kc.compute_var()\n",
    "\n",
    "    # Directory\n",
    "    kc.dir_save = os.path.join(dir_save, str(i))\n",
    "    if not os.path.exists(kc.dir_save):\n",
    "        os.makedirs(kc.dir_save)\n",
    "    kc.export_data()\n",
    "    \n",
    "    # Clear loading bar\n",
    "    clear_output()\n",
    "\n",
    "# Successful message:\n",
    "print('Data successfully saved!')"
   ]
  },
  {
   "cell_type": "markdown",
   "metadata": {},
   "source": [
    "## Vary injury index"
   ]
  },
  {
   "cell_type": "code",
   "execution_count": null,
   "metadata": {},
   "outputs": [],
   "source": [
    "# Range of inj_mid:\n",
    "inj_lower = 0.0\n",
    "inj_upper = 1.0\n",
    "num_inj = 10\n",
    "\n",
    "inj_array = np.linspace(inj_lower, inj_upper, num=num_inj, endpoint=False)\n",
    "kc.is_inj = True\n",
    "\n",
    "for i in range(inj_array.size):\n",
    "    kc.inj_mid = inj_array[i]\n",
    "    kc.update(sample_A=True, sample_Tau=False)\n",
    "    kc.compute_Omega(0)\n",
    "\n",
    "    print('\\n Trial: ' + str(i+1) + '/' + str(inj_array.size)) # Keep track of trials\n",
    "    inds = kc.generate_sol(get_delay=get_delay)\n",
    "    kc.compute_var()\n",
    "\n",
    "    # Directory\n",
    "    kc.dir_save = os.path.join(dir_save, str(i))\n",
    "    if not os.path.exists(kc.dir_save):\n",
    "        os.makedirs(kc.dir_save)\n",
    "    kc.export_data()\n",
    "    \n",
    "    # Clear loading bar\n",
    "    clear_output()\n",
    "\n",
    "# Successful message:\n",
    "print('Data successfully saved!')"
   ]
  }
 ],
 "metadata": {
  "kernelspec": {
   "display_name": "Python 3",
   "language": "python",
   "name": "python3"
  },
  "language_info": {
   "codemirror_mode": {
    "name": "ipython",
    "version": 3
   },
   "file_extension": ".py",
   "mimetype": "text/x-python",
   "name": "python",
   "nbconvert_exporter": "python",
   "pygments_lexer": "ipython3",
   "version": "3.6.5"
  }
 },
 "nbformat": 4,
 "nbformat_minor": 2
}
